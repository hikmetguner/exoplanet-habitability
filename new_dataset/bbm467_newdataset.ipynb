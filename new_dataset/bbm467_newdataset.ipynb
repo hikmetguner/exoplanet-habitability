{
 "cells": [
  {
   "cell_type": "code",
   "execution_count": 1,
   "metadata": {},
   "outputs": [],
   "source": [
    "import numpy as np\n",
    "import pandas as pd\n",
    "import seaborn as sns\n",
    "import matplotlib.pyplot as plt\n",
    "import scipy.stats as stats\n",
    "import warnings\n",
    "import math\n",
    "\n",
    "from matplotlib.lines import Line2D\n",
    "from scipy.cluster.hierarchy import dendrogram, linkage\n",
    "from scipy.spatial import ConvexHull\n",
    "from scipy import interpolate\n",
    "from sklearn.cluster import KMeans\n",
    "from sklearn.cluster import AgglomerativeClustering\n",
    "from sklearn.impute import KNNImputer\n",
    "from sklearn.preprocessing import MinMaxScaler\n",
    "from sklearn import metrics\n",
    "from sklearn.preprocessing import normalize\n",
    "from sklearn.neighbors import KernelDensity\n",
    "from sklearn.metrics.cluster import rand_score\n",
    "from sklearn.decomposition import PCA"
   ]
  },
  {
   "cell_type": "code",
   "execution_count": 2,
   "metadata": {},
   "outputs": [],
   "source": [
    "df = pd.read_csv('new.csv',header=0, index_col=0)\n",
    "pd.set_option('mode.chained_assignment', None)"
   ]
  },
  {
   "cell_type": "code",
   "execution_count": 3,
   "metadata": {},
   "outputs": [
    {
     "data": {
      "text/plain": [
       "(5243, 164)"
      ]
     },
     "execution_count": 3,
     "metadata": {},
     "output_type": "execute_result"
    }
   ],
   "source": [
    "df.shape"
   ]
  },
  {
   "cell_type": "code",
   "execution_count": 4,
   "metadata": {},
   "outputs": [
    {
     "data": {
      "text/plain": [
       "Index(['pl_name', 'hostname', 'pl_letter', 'hd_name', 'hip_name', 'tic_id',\n",
       "       'gaia_id', 'sy_snum', 'sy_pnum', 'sy_mnum',\n",
       "       ...\n",
       "       'sy_tmag', 'sy_tmag_reflink', 'sy_kepmag', 'sy_kepmag_reflink',\n",
       "       'pl_nnotes', 'st_nphot', 'st_nrvc', 'st_nspec', 'pl_nespec',\n",
       "       'pl_ntranspec'],\n",
       "      dtype='object', length=164)"
      ]
     },
     "execution_count": 4,
     "metadata": {},
     "output_type": "execute_result"
    }
   ],
   "source": [
    "df.columns"
   ]
  },
  {
   "cell_type": "code",
   "execution_count": 5,
   "metadata": {},
   "outputs": [],
   "source": [
    "df = df[['pl_name','sy_snum',\n",
    "'sy_pnum',\n",
    "'sy_mnum',\n",
    "'cb_flag',\n",
    "'pl_controv_flag', \n",
    "'pl_orbper',\n",
    "'pl_orbsmax',\n",
    "'pl_rade',\n",
    "'pl_radj',\n",
    "'pl_bmasse',\n",
    "'pl_bmassj',\n",
    "'pl_bmassprov',\n",
    "'pl_dens',\n",
    "'pl_orbeccen',\n",
    "'pl_insol',\n",
    "'pl_eqt',\n",
    "'pl_rvamp',\n",
    "'st_spectype',\n",
    "'st_teff',\n",
    "'st_rad',\n",
    "'st_mass',\n",
    "'st_met',\n",
    "'st_lum',\n",
    "'st_age',\n",
    "'st_dens']]"
   ]
  },
  {
   "cell_type": "code",
   "execution_count": 6,
   "metadata": {},
   "outputs": [
    {
     "data": {
      "text/plain": [
       "(5243, 26)"
      ]
     },
     "execution_count": 6,
     "metadata": {},
     "output_type": "execute_result"
    }
   ],
   "source": [
    "df.shape"
   ]
  },
  {
   "cell_type": "code",
   "execution_count": 7,
   "metadata": {},
   "outputs": [
    {
     "data": {
      "text/html": [
       "<div>\n",
       "<style scoped>\n",
       "    .dataframe tbody tr th:only-of-type {\n",
       "        vertical-align: middle;\n",
       "    }\n",
       "\n",
       "    .dataframe tbody tr th {\n",
       "        vertical-align: top;\n",
       "    }\n",
       "\n",
       "    .dataframe thead th {\n",
       "        text-align: right;\n",
       "    }\n",
       "</style>\n",
       "<table border=\"1\" class=\"dataframe\">\n",
       "  <thead>\n",
       "    <tr style=\"text-align: right;\">\n",
       "      <th></th>\n",
       "      <th>0</th>\n",
       "    </tr>\n",
       "  </thead>\n",
       "  <tbody>\n",
       "    <tr>\n",
       "      <th>pl_name</th>\n",
       "      <td>0</td>\n",
       "    </tr>\n",
       "    <tr>\n",
       "      <th>sy_snum</th>\n",
       "      <td>0</td>\n",
       "    </tr>\n",
       "    <tr>\n",
       "      <th>sy_pnum</th>\n",
       "      <td>0</td>\n",
       "    </tr>\n",
       "    <tr>\n",
       "      <th>sy_mnum</th>\n",
       "      <td>0</td>\n",
       "    </tr>\n",
       "    <tr>\n",
       "      <th>cb_flag</th>\n",
       "      <td>0</td>\n",
       "    </tr>\n",
       "    <tr>\n",
       "      <th>pl_controv_flag</th>\n",
       "      <td>0</td>\n",
       "    </tr>\n",
       "    <tr>\n",
       "      <th>pl_orbper</th>\n",
       "      <td>191</td>\n",
       "    </tr>\n",
       "    <tr>\n",
       "      <th>pl_orbsmax</th>\n",
       "      <td>286</td>\n",
       "    </tr>\n",
       "    <tr>\n",
       "      <th>pl_rade</th>\n",
       "      <td>17</td>\n",
       "    </tr>\n",
       "    <tr>\n",
       "      <th>pl_radj</th>\n",
       "      <td>18</td>\n",
       "    </tr>\n",
       "    <tr>\n",
       "      <th>pl_bmasse</th>\n",
       "      <td>23</td>\n",
       "    </tr>\n",
       "    <tr>\n",
       "      <th>pl_bmassj</th>\n",
       "      <td>23</td>\n",
       "    </tr>\n",
       "    <tr>\n",
       "      <th>pl_bmassprov</th>\n",
       "      <td>0</td>\n",
       "    </tr>\n",
       "    <tr>\n",
       "      <th>pl_dens</th>\n",
       "      <td>114</td>\n",
       "    </tr>\n",
       "    <tr>\n",
       "      <th>pl_orbeccen</th>\n",
       "      <td>682</td>\n",
       "    </tr>\n",
       "    <tr>\n",
       "      <th>pl_insol</th>\n",
       "      <td>1611</td>\n",
       "    </tr>\n",
       "    <tr>\n",
       "      <th>pl_eqt</th>\n",
       "      <td>1363</td>\n",
       "    </tr>\n",
       "    <tr>\n",
       "      <th>pl_rvamp</th>\n",
       "      <td>3387</td>\n",
       "    </tr>\n",
       "    <tr>\n",
       "      <th>st_spectype</th>\n",
       "      <td>3375</td>\n",
       "    </tr>\n",
       "    <tr>\n",
       "      <th>st_teff</th>\n",
       "      <td>160</td>\n",
       "    </tr>\n",
       "    <tr>\n",
       "      <th>st_rad</th>\n",
       "      <td>181</td>\n",
       "    </tr>\n",
       "    <tr>\n",
       "      <th>st_mass</th>\n",
       "      <td>4</td>\n",
       "    </tr>\n",
       "    <tr>\n",
       "      <th>st_met</th>\n",
       "      <td>362</td>\n",
       "    </tr>\n",
       "    <tr>\n",
       "      <th>st_lum</th>\n",
       "      <td>176</td>\n",
       "    </tr>\n",
       "    <tr>\n",
       "      <th>st_age</th>\n",
       "      <td>1103</td>\n",
       "    </tr>\n",
       "    <tr>\n",
       "      <th>st_dens</th>\n",
       "      <td>435</td>\n",
       "    </tr>\n",
       "  </tbody>\n",
       "</table>\n",
       "</div>"
      ],
      "text/plain": [
       "                    0\n",
       "pl_name             0\n",
       "sy_snum             0\n",
       "sy_pnum             0\n",
       "sy_mnum             0\n",
       "cb_flag             0\n",
       "pl_controv_flag     0\n",
       "pl_orbper         191\n",
       "pl_orbsmax        286\n",
       "pl_rade            17\n",
       "pl_radj            18\n",
       "pl_bmasse          23\n",
       "pl_bmassj          23\n",
       "pl_bmassprov        0\n",
       "pl_dens           114\n",
       "pl_orbeccen       682\n",
       "pl_insol         1611\n",
       "pl_eqt           1363\n",
       "pl_rvamp         3387\n",
       "st_spectype      3375\n",
       "st_teff           160\n",
       "st_rad            181\n",
       "st_mass             4\n",
       "st_met            362\n",
       "st_lum            176\n",
       "st_age           1103\n",
       "st_dens           435"
      ]
     },
     "execution_count": 7,
     "metadata": {},
     "output_type": "execute_result"
    }
   ],
   "source": [
    "df.isnull().sum().to_frame()"
   ]
  },
  {
   "cell_type": "code",
   "execution_count": 8,
   "metadata": {},
   "outputs": [],
   "source": [
    "df2 = df.pivot_table(index = ['pl_name'], aggfunc ='size')\n"
   ]
  },
  {
   "cell_type": "code",
   "execution_count": 9,
   "metadata": {},
   "outputs": [
    {
     "data": {
      "text/plain": [
       "0"
      ]
     },
     "execution_count": 9,
     "metadata": {},
     "output_type": "execute_result"
    }
   ],
   "source": [
    "num_of_duplicates = len(df) - len(df.drop_duplicates())\n",
    "num_of_duplicates"
   ]
  },
  {
   "cell_type": "code",
   "execution_count": 10,
   "metadata": {},
   "outputs": [
    {
     "data": {
      "text/plain": [
       "Index(['pl_name', 'sy_snum', 'sy_pnum', 'sy_mnum', 'cb_flag',\n",
       "       'pl_controv_flag', 'pl_orbper', 'pl_orbsmax', 'pl_rade', 'pl_radj',\n",
       "       'pl_bmasse', 'pl_bmassj', 'pl_bmassprov', 'pl_dens', 'pl_orbeccen',\n",
       "       'pl_insol', 'pl_eqt', 'pl_rvamp', 'st_spectype', 'st_teff', 'st_rad',\n",
       "       'st_mass', 'st_met', 'st_lum', 'st_age', 'st_dens'],\n",
       "      dtype='object')"
      ]
     },
     "execution_count": 10,
     "metadata": {},
     "output_type": "execute_result"
    }
   ],
   "source": [
    "all_columns = df.columns\n",
    "all_columns"
   ]
  },
  {
   "cell_type": "code",
   "execution_count": 11,
   "metadata": {},
   "outputs": [
    {
     "data": {
      "text/plain": [
       "['pl_insol', 'pl_eqt', 'pl_rvamp', 'st_spectype', 'st_age']"
      ]
     },
     "execution_count": 11,
     "metadata": {},
     "output_type": "execute_result"
    }
   ],
   "source": [
    "col_will_drop = []\n",
    "\n",
    "for i in all_columns:\n",
    "    if df[i].isnull().sum() > 1000:\n",
    "        col_will_drop.append(i)\n",
    "\n",
    "col_will_drop"
   ]
  },
  {
   "cell_type": "code",
   "execution_count": 12,
   "metadata": {},
   "outputs": [
    {
     "data": {
      "text/plain": [
       "Index(['pl_name', 'sy_snum', 'sy_pnum', 'sy_mnum', 'cb_flag',\n",
       "       'pl_controv_flag', 'pl_orbper', 'pl_orbsmax', 'pl_rade', 'pl_radj',\n",
       "       'pl_bmasse', 'pl_bmassj', 'pl_bmassprov', 'pl_dens', 'pl_orbeccen',\n",
       "       'st_teff', 'st_rad', 'st_mass', 'st_met', 'st_lum', 'st_dens'],\n",
       "      dtype='object')"
      ]
     },
     "execution_count": 12,
     "metadata": {},
     "output_type": "execute_result"
    }
   ],
   "source": [
    "df = df.drop(columns = col_will_drop)\n",
    "df.columns"
   ]
  },
  {
   "attachments": {},
   "cell_type": "markdown",
   "metadata": {},
   "source": [
    "#### Getting the amount of missing columns per row"
   ]
  },
  {
   "cell_type": "code",
   "execution_count": 13,
   "metadata": {},
   "outputs": [],
   "source": [
    "def get_empty_col(row_index):\n",
    "    total_nan = 0\n",
    "    for col in df.columns:\n",
    "        if pd.isna(df[col][row_index]):\n",
    "            total_nan += 1\n",
    "    return total_nan"
   ]
  },
  {
   "attachments": {},
   "cell_type": "markdown",
   "metadata": {},
   "source": [
    "#### Find the number of empty columns per row, append it to the dataframe"
   ]
  },
  {
   "cell_type": "code",
   "execution_count": 14,
   "metadata": {},
   "outputs": [],
   "source": [
    "df['empty_col_count'] = 0\n",
    "for i in df.index:\n",
    "    df['empty_col_count'][i] = get_empty_col(i)"
   ]
  },
  {
   "cell_type": "code",
   "execution_count": 15,
   "metadata": {},
   "outputs": [
    {
     "data": {
      "text/html": [
       "<div>\n",
       "<style scoped>\n",
       "    .dataframe tbody tr th:only-of-type {\n",
       "        vertical-align: middle;\n",
       "    }\n",
       "\n",
       "    .dataframe tbody tr th {\n",
       "        vertical-align: top;\n",
       "    }\n",
       "\n",
       "    .dataframe thead th {\n",
       "        text-align: right;\n",
       "    }\n",
       "</style>\n",
       "<table border=\"1\" class=\"dataframe\">\n",
       "  <thead>\n",
       "    <tr style=\"text-align: right;\">\n",
       "      <th></th>\n",
       "      <th>pl_name</th>\n",
       "      <th>sy_snum</th>\n",
       "      <th>sy_pnum</th>\n",
       "      <th>sy_mnum</th>\n",
       "      <th>cb_flag</th>\n",
       "      <th>pl_controv_flag</th>\n",
       "      <th>pl_orbper</th>\n",
       "      <th>pl_orbsmax</th>\n",
       "      <th>pl_rade</th>\n",
       "      <th>pl_radj</th>\n",
       "      <th>...</th>\n",
       "      <th>pl_bmassprov</th>\n",
       "      <th>pl_dens</th>\n",
       "      <th>pl_orbeccen</th>\n",
       "      <th>st_teff</th>\n",
       "      <th>st_rad</th>\n",
       "      <th>st_mass</th>\n",
       "      <th>st_met</th>\n",
       "      <th>st_lum</th>\n",
       "      <th>st_dens</th>\n",
       "      <th>empty_col_count</th>\n",
       "    </tr>\n",
       "    <tr>\n",
       "      <th>rowid</th>\n",
       "      <th></th>\n",
       "      <th></th>\n",
       "      <th></th>\n",
       "      <th></th>\n",
       "      <th></th>\n",
       "      <th></th>\n",
       "      <th></th>\n",
       "      <th></th>\n",
       "      <th></th>\n",
       "      <th></th>\n",
       "      <th></th>\n",
       "      <th></th>\n",
       "      <th></th>\n",
       "      <th></th>\n",
       "      <th></th>\n",
       "      <th></th>\n",
       "      <th></th>\n",
       "      <th></th>\n",
       "      <th></th>\n",
       "      <th></th>\n",
       "      <th></th>\n",
       "    </tr>\n",
       "  </thead>\n",
       "  <tbody>\n",
       "    <tr>\n",
       "      <th>1</th>\n",
       "      <td>11 Com b</td>\n",
       "      <td>2</td>\n",
       "      <td>1</td>\n",
       "      <td>0</td>\n",
       "      <td>0</td>\n",
       "      <td>0</td>\n",
       "      <td>326.030000</td>\n",
       "      <td>1.290000</td>\n",
       "      <td>12.1</td>\n",
       "      <td>1.08</td>\n",
       "      <td>...</td>\n",
       "      <td>Msini</td>\n",
       "      <td>19.10</td>\n",
       "      <td>0.231000</td>\n",
       "      <td>4742.0</td>\n",
       "      <td>19.00</td>\n",
       "      <td>2.70</td>\n",
       "      <td>-0.350</td>\n",
       "      <td>2.243</td>\n",
       "      <td>NaN</td>\n",
       "      <td>1</td>\n",
       "    </tr>\n",
       "    <tr>\n",
       "      <th>2</th>\n",
       "      <td>11 UMi b</td>\n",
       "      <td>1</td>\n",
       "      <td>1</td>\n",
       "      <td>0</td>\n",
       "      <td>0</td>\n",
       "      <td>0</td>\n",
       "      <td>516.219970</td>\n",
       "      <td>1.530000</td>\n",
       "      <td>12.3</td>\n",
       "      <td>1.09</td>\n",
       "      <td>...</td>\n",
       "      <td>Msini</td>\n",
       "      <td>13.80</td>\n",
       "      <td>0.080000</td>\n",
       "      <td>4213.0</td>\n",
       "      <td>29.79</td>\n",
       "      <td>2.78</td>\n",
       "      <td>-0.020</td>\n",
       "      <td>2.430</td>\n",
       "      <td>NaN</td>\n",
       "      <td>1</td>\n",
       "    </tr>\n",
       "    <tr>\n",
       "      <th>3</th>\n",
       "      <td>14 And b</td>\n",
       "      <td>1</td>\n",
       "      <td>1</td>\n",
       "      <td>0</td>\n",
       "      <td>0</td>\n",
       "      <td>0</td>\n",
       "      <td>185.840000</td>\n",
       "      <td>0.830000</td>\n",
       "      <td>12.9</td>\n",
       "      <td>1.15</td>\n",
       "      <td>...</td>\n",
       "      <td>Msini</td>\n",
       "      <td>3.90</td>\n",
       "      <td>0.000000</td>\n",
       "      <td>4813.0</td>\n",
       "      <td>11.00</td>\n",
       "      <td>2.20</td>\n",
       "      <td>-0.240</td>\n",
       "      <td>1.763</td>\n",
       "      <td>NaN</td>\n",
       "      <td>1</td>\n",
       "    </tr>\n",
       "    <tr>\n",
       "      <th>4</th>\n",
       "      <td>14 Her b</td>\n",
       "      <td>1</td>\n",
       "      <td>2</td>\n",
       "      <td>0</td>\n",
       "      <td>0</td>\n",
       "      <td>0</td>\n",
       "      <td>1765.038901</td>\n",
       "      <td>2.773069</td>\n",
       "      <td>12.6</td>\n",
       "      <td>1.12</td>\n",
       "      <td>...</td>\n",
       "      <td>Mass</td>\n",
       "      <td>7.11</td>\n",
       "      <td>0.372689</td>\n",
       "      <td>5338.0</td>\n",
       "      <td>0.93</td>\n",
       "      <td>0.91</td>\n",
       "      <td>0.405</td>\n",
       "      <td>-0.153</td>\n",
       "      <td>1.27393</td>\n",
       "      <td>0</td>\n",
       "    </tr>\n",
       "    <tr>\n",
       "      <th>5</th>\n",
       "      <td>16 Cyg B b</td>\n",
       "      <td>3</td>\n",
       "      <td>1</td>\n",
       "      <td>0</td>\n",
       "      <td>0</td>\n",
       "      <td>0</td>\n",
       "      <td>798.500000</td>\n",
       "      <td>1.660000</td>\n",
       "      <td>13.5</td>\n",
       "      <td>1.20</td>\n",
       "      <td>...</td>\n",
       "      <td>Msini</td>\n",
       "      <td>1.26</td>\n",
       "      <td>0.680000</td>\n",
       "      <td>5750.0</td>\n",
       "      <td>1.13</td>\n",
       "      <td>1.08</td>\n",
       "      <td>0.060</td>\n",
       "      <td>0.097</td>\n",
       "      <td>1.01103</td>\n",
       "      <td>0</td>\n",
       "    </tr>\n",
       "  </tbody>\n",
       "</table>\n",
       "<p>5 rows × 22 columns</p>\n",
       "</div>"
      ],
      "text/plain": [
       "          pl_name  sy_snum  sy_pnum  sy_mnum  cb_flag  pl_controv_flag  \\\n",
       "rowid                                                                    \n",
       "1        11 Com b        2        1        0        0                0   \n",
       "2        11 UMi b        1        1        0        0                0   \n",
       "3        14 And b        1        1        0        0                0   \n",
       "4        14 Her b        1        2        0        0                0   \n",
       "5      16 Cyg B b        3        1        0        0                0   \n",
       "\n",
       "         pl_orbper  pl_orbsmax  pl_rade  pl_radj  ...  pl_bmassprov  pl_dens  \\\n",
       "rowid                                             ...                          \n",
       "1       326.030000    1.290000     12.1     1.08  ...         Msini    19.10   \n",
       "2       516.219970    1.530000     12.3     1.09  ...         Msini    13.80   \n",
       "3       185.840000    0.830000     12.9     1.15  ...         Msini     3.90   \n",
       "4      1765.038901    2.773069     12.6     1.12  ...          Mass     7.11   \n",
       "5       798.500000    1.660000     13.5     1.20  ...         Msini     1.26   \n",
       "\n",
       "      pl_orbeccen  st_teff  st_rad  st_mass  st_met  st_lum  st_dens  \\\n",
       "rowid                                                                  \n",
       "1        0.231000   4742.0   19.00     2.70  -0.350   2.243      NaN   \n",
       "2        0.080000   4213.0   29.79     2.78  -0.020   2.430      NaN   \n",
       "3        0.000000   4813.0   11.00     2.20  -0.240   1.763      NaN   \n",
       "4        0.372689   5338.0    0.93     0.91   0.405  -0.153  1.27393   \n",
       "5        0.680000   5750.0    1.13     1.08   0.060   0.097  1.01103   \n",
       "\n",
       "       empty_col_count  \n",
       "rowid                   \n",
       "1                    1  \n",
       "2                    1  \n",
       "3                    1  \n",
       "4                    0  \n",
       "5                    0  \n",
       "\n",
       "[5 rows x 22 columns]"
      ]
     },
     "execution_count": 15,
     "metadata": {},
     "output_type": "execute_result"
    }
   ],
   "source": [
    "df.head()"
   ]
  },
  {
   "cell_type": "code",
   "execution_count": 16,
   "metadata": {},
   "outputs": [
    {
     "name": "stdout",
     "output_type": "stream",
     "text": [
      "Max:\t 9\n",
      "Min:\t 0\n",
      "Total:\t 22\n"
     ]
    }
   ],
   "source": [
    "print('Max:\\t', df['empty_col_count'].max())\n",
    "print('Min:\\t',df['empty_col_count'].min())\n",
    "print('Total:\\t',len(df.columns))"
   ]
  },
  {
   "cell_type": "code",
   "execution_count": 18,
   "metadata": {},
   "outputs": [
    {
     "data": {
      "text/plain": [
       "(5061, 22)"
      ]
     },
     "execution_count": 18,
     "metadata": {},
     "output_type": "execute_result"
    }
   ],
   "source": [
    "df = df[df['empty_col_count'] < 5]\n",
    "df.shape"
   ]
  },
  {
   "cell_type": "code",
   "execution_count": 19,
   "metadata": {},
   "outputs": [
    {
     "data": {
      "text/html": [
       "<div>\n",
       "<style scoped>\n",
       "    .dataframe tbody tr th:only-of-type {\n",
       "        vertical-align: middle;\n",
       "    }\n",
       "\n",
       "    .dataframe tbody tr th {\n",
       "        vertical-align: top;\n",
       "    }\n",
       "\n",
       "    .dataframe thead th {\n",
       "        text-align: right;\n",
       "    }\n",
       "</style>\n",
       "<table border=\"1\" class=\"dataframe\">\n",
       "  <thead>\n",
       "    <tr style=\"text-align: right;\">\n",
       "      <th></th>\n",
       "      <th>0</th>\n",
       "    </tr>\n",
       "  </thead>\n",
       "  <tbody>\n",
       "    <tr>\n",
       "      <th>pl_name</th>\n",
       "      <td>0</td>\n",
       "    </tr>\n",
       "    <tr>\n",
       "      <th>sy_snum</th>\n",
       "      <td>0</td>\n",
       "    </tr>\n",
       "    <tr>\n",
       "      <th>sy_pnum</th>\n",
       "      <td>0</td>\n",
       "    </tr>\n",
       "    <tr>\n",
       "      <th>sy_mnum</th>\n",
       "      <td>0</td>\n",
       "    </tr>\n",
       "    <tr>\n",
       "      <th>cb_flag</th>\n",
       "      <td>0</td>\n",
       "    </tr>\n",
       "    <tr>\n",
       "      <th>pl_controv_flag</th>\n",
       "      <td>0</td>\n",
       "    </tr>\n",
       "    <tr>\n",
       "      <th>pl_orbper</th>\n",
       "      <td>39</td>\n",
       "    </tr>\n",
       "    <tr>\n",
       "      <th>pl_orbsmax</th>\n",
       "      <td>275</td>\n",
       "    </tr>\n",
       "    <tr>\n",
       "      <th>pl_rade</th>\n",
       "      <td>7</td>\n",
       "    </tr>\n",
       "    <tr>\n",
       "      <th>pl_radj</th>\n",
       "      <td>8</td>\n",
       "    </tr>\n",
       "    <tr>\n",
       "      <th>pl_bmasse</th>\n",
       "      <td>16</td>\n",
       "    </tr>\n",
       "    <tr>\n",
       "      <th>pl_bmassj</th>\n",
       "      <td>16</td>\n",
       "    </tr>\n",
       "    <tr>\n",
       "      <th>pl_bmassprov</th>\n",
       "      <td>0</td>\n",
       "    </tr>\n",
       "    <tr>\n",
       "      <th>pl_dens</th>\n",
       "      <td>103</td>\n",
       "    </tr>\n",
       "    <tr>\n",
       "      <th>pl_orbeccen</th>\n",
       "      <td>513</td>\n",
       "    </tr>\n",
       "    <tr>\n",
       "      <th>st_teff</th>\n",
       "      <td>0</td>\n",
       "    </tr>\n",
       "    <tr>\n",
       "      <th>st_rad</th>\n",
       "      <td>11</td>\n",
       "    </tr>\n",
       "    <tr>\n",
       "      <th>st_mass</th>\n",
       "      <td>1</td>\n",
       "    </tr>\n",
       "    <tr>\n",
       "      <th>st_met</th>\n",
       "      <td>189</td>\n",
       "    </tr>\n",
       "    <tr>\n",
       "      <th>st_lum</th>\n",
       "      <td>6</td>\n",
       "    </tr>\n",
       "    <tr>\n",
       "      <th>st_dens</th>\n",
       "      <td>260</td>\n",
       "    </tr>\n",
       "    <tr>\n",
       "      <th>empty_col_count</th>\n",
       "      <td>0</td>\n",
       "    </tr>\n",
       "  </tbody>\n",
       "</table>\n",
       "</div>"
      ],
      "text/plain": [
       "                   0\n",
       "pl_name            0\n",
       "sy_snum            0\n",
       "sy_pnum            0\n",
       "sy_mnum            0\n",
       "cb_flag            0\n",
       "pl_controv_flag    0\n",
       "pl_orbper         39\n",
       "pl_orbsmax       275\n",
       "pl_rade            7\n",
       "pl_radj            8\n",
       "pl_bmasse         16\n",
       "pl_bmassj         16\n",
       "pl_bmassprov       0\n",
       "pl_dens          103\n",
       "pl_orbeccen      513\n",
       "st_teff            0\n",
       "st_rad            11\n",
       "st_mass            1\n",
       "st_met           189\n",
       "st_lum             6\n",
       "st_dens          260\n",
       "empty_col_count    0"
      ]
     },
     "execution_count": 19,
     "metadata": {},
     "output_type": "execute_result"
    }
   ],
   "source": [
    "df.isnull().sum().to_frame()"
   ]
  }
 ],
 "metadata": {
  "kernelspec": {
   "display_name": "Python 3",
   "language": "python",
   "name": "python3"
  },
  "language_info": {
   "codemirror_mode": {
    "name": "ipython",
    "version": 3
   },
   "file_extension": ".py",
   "mimetype": "text/x-python",
   "name": "python",
   "nbconvert_exporter": "python",
   "pygments_lexer": "ipython3",
   "version": "3.10.8"
  },
  "orig_nbformat": 4,
  "vscode": {
   "interpreter": {
    "hash": "d219cf1d18c049d72a8c401d967482d7cfb2a5283450ef458aee69ba2c68ab50"
   }
  }
 },
 "nbformat": 4,
 "nbformat_minor": 2
}
